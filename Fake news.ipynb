{
 "cells": [
  {
   "cell_type": "code",
   "execution_count": null,
   "metadata": {},
   "outputs": [],
   "source": []
  },
  {
   "cell_type": "code",
   "execution_count": null,
   "metadata": {},
   "outputs": [],
   "source": [
    "import pandas as pd\n",
    "from sklearn.model_selection import train_test_split\n",
    "from sklearn.feature_extraction.text import TfidfVectorizer\n",
    "from sklearn.ensemble import RandomForestClassifier\n",
    "from sklearn.metrics import accuracy_score, classification_report, confusion_matrix\n",
    "\n",
    "# Step 1: Load the dataset\n",
    "# Replace 'your_dataset.csv' with the path to your dataset file\n",
    "data = pd.read_csv('Fake.csv')\n",
    "\n",
    "# Assuming the column containing the news article title is named 'title',\n",
    "# the column containing the news article text is named 'text',\n",
    "# the column containing the subject is named 'subject',\n",
    "# and the column containing the labels is named 'date'\n",
    "X_title_text = data['title'] + \" \" + data['text']\n",
    "y = data['subject']\n",
    "\n",
    "# Step 2: Preprocess the data\n",
    "vectorizer = TfidfVectorizer(stop_words='english', max_df=0.7)\n",
    "X_tfidf = vectorizer.fit_transform(X_title_text)\n",
    "\n",
    "# Step 3: Split the dataset into training and testing sets\n",
    "X_train, X_test, y_train, y_test = train_test_split(X_tfidf, y, test_size=0.2, random_state=42)\n",
    "\n",
    "# Step 4: Create and train the random forest classifier\n",
    "rf_classifier = RandomForestClassifier(n_estimators=100, random_state=42)\n",
    "rf_classifier.fit(X_train, y_train)\n",
    "\n",
    "# Step 5: Evaluate the model's performance\n",
    "y_pred = rf_classifier.predict(X_test)\n",
    "\n",
    "accuracy = accuracy_score(y_test, y_pred)\n",
    "print(\"Accuracy:\", accuracy)\n",
    "\n",
    "print(\"Classification Report:\")\n",
    "print(classification_report(y_test, y_pred))\n",
    "\n",
    "print(\"Confusion Matrix:\")\n",
    "print(confusion_matrix(y_test, y_pred))\n",
    "\n",
    "# Step 6: Make predictions on new data (assuming you have new_data as a list of dictionaries)\n",
    "new_data = [\n",
    "    {\"title\": \"Breaking News\", \"text\": \"This is a real news article.\"},\n",
    "    {\"title\": \"Aliens!\", \"text\": \"Breaking: Aliens land on Earth!\"},\n",
    "    {\"title\": \"New Planet\", \"text\": \"Scientists discover a new planet in our solar system.\"}\n",
    "]\n",
    "\n",
    "new_data_texts = [item['title'] + \" \" + item['text'] for item in new_data]\n",
    "new_data_tfidf = vectorizer.transform(new_data_texts)\n",
    "new_data_predictions = rf_classifier.predict(new_data_tfidf)\n",
    "\n",
    "for data_point, prediction in zip(new_data, new_data_predictions):\n",
    "    print(f\"({data_point['title']}) '{data_point['text']}' belongs to the subject: {prediction}\")\n"
   ]
  },
  {
   "cell_type": "code",
   "execution_count": null,
   "metadata": {},
   "outputs": [],
   "source": []
  },
  {
   "cell_type": "code",
   "execution_count": null,
   "metadata": {},
   "outputs": [],
   "source": []
  },
  {
   "cell_type": "code",
   "execution_count": null,
   "metadata": {},
   "outputs": [],
   "source": []
  }
 ],
 "metadata": {
  "kernelspec": {
   "display_name": "Python 3",
   "language": "python",
   "name": "python3"
  },
  "language_info": {
   "codemirror_mode": {
    "name": "ipython",
    "version": 3
   },
   "file_extension": ".py",
   "mimetype": "text/x-python",
   "name": "python",
   "nbconvert_exporter": "python",
   "pygments_lexer": "ipython3",
   "version": "3.8.5"
  }
 },
 "nbformat": 4,
 "nbformat_minor": 4
}
