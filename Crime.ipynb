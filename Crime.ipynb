{
 "cells": [
  {
   "cell_type": "code",
   "execution_count": null,
   "metadata": {},
   "outputs": [],
   "source": []
  },
  {
   "cell_type": "code",
   "execution_count": null,
   "metadata": {},
   "outputs": [
    {
     "name": "stderr",
     "output_type": "stream",
     "text": [
      "C:\\Users\\olatu\\anaconda3\\lib\\site-packages\\pandas\\core\\computation\\expressions.py:20: UserWarning: Pandas requires version '2.7.3' or newer of 'numexpr' (version '2.7.1' currently installed).\n",
      "  from pandas.core.computation.check import NUMEXPR_INSTALLED\n",
      "<ipython-input-1-ce931b160301>:10: DtypeWarning: Columns (6) have mixed types. Specify dtype option on import or set low_memory=False.\n",
      "  data = pd.read_csv('crime.csv', encoding='latin-1')\n"
     ]
    }
   ],
   "source": [
    "import pandas as pd\n",
    "from sklearn.preprocessing import LabelEncoder\n",
    "from sklearn.model_selection import train_test_split\n",
    "from sklearn.decomposition import PCA\n",
    "from sklearn.svm import SVC\n",
    "from sklearn.metrics import accuracy_score\n",
    "from sklearn.impute import SimpleImputer\n",
    "\n",
    "# Load the dataset with a specific encoding (e.g., 'latin-1' or 'ISO-8859-1')\n",
    "data = pd.read_csv('crime.csv', encoding='latin-1')\n",
    "\n",
    "# Drop unnecessary columns\n",
    "data.drop(columns=['INCIDENT_NUMBER', 'DISTRICT', 'REPORTING_AREA', 'OCCURRED_ON_DATE', 'STREET', 'Lat', 'Long', 'Location'], inplace=True)\n",
    "\n",
    "# Convert 'Y' and 'N' in 'SHOOTING' column to 1 and 0\n",
    "data['SHOOTING'] = data['SHOOTING'].map({'Y': 1, 'N': 0})\n",
    "\n",
    "# Encode categorical features if any\n",
    "label_encoder = LabelEncoder()\n",
    "data['OFFENSE_CODE_GROUP'] = label_encoder.fit_transform(data['OFFENSE_CODE_GROUP'])\n",
    "data['DAY_OF_WEEK'] = label_encoder.fit_transform(data['DAY_OF_WEEK'])\n",
    "data['UCR_PART'] = label_encoder.fit_transform(data['UCR_PART'])\n",
    "\n",
    "# Separate features and target variable\n",
    "X = data.drop(columns=['OFFENSE_DESCRIPTION'])\n",
    "y = data['OFFENSE_DESCRIPTION']\n",
    "\n",
    "# Handle missing values\n",
    "imputer = SimpleImputer(strategy='mean')  # You can choose the imputation strategy based on your data\n",
    "X_imputed = imputer.fit_transform(X)\n",
    "\n",
    "# Apply PCA to reduce the dimensionality to n_components\n",
    "n_components = 8  # Change this to 8 or lower\n",
    "pca = PCA(n_components=n_components)\n",
    "X_pca = pca.fit_transform(X_imputed)\n",
    "\n",
    "# Split the data into training and testing sets\n",
    "X_train, X_test, y_train, y_test = train_test_split(X_pca, y, test_size=0.2, random_state=42)\n",
    "\n",
    "# Train the Support Vector Classifier\n",
    "svc = SVC()\n",
    "svc.fit(X_train, y_train)\n",
    "\n",
    "# Make predictions on the test set\n",
    "y_pred = svc.predict(X_test)\n",
    "\n",
    "# Calculate accuracy score\n",
    "accuracy = accuracy_score(y_test, y_pred)\n",
    "print(\"Accuracy:\", accuracy)\n"
   ]
  },
  {
   "cell_type": "code",
   "execution_count": null,
   "metadata": {},
   "outputs": [],
   "source": []
  },
  {
   "cell_type": "code",
   "execution_count": null,
   "metadata": {},
   "outputs": [],
   "source": []
  }
 ],
 "metadata": {
  "kernelspec": {
   "display_name": "Python 3",
   "language": "python",
   "name": "python3"
  },
  "language_info": {
   "codemirror_mode": {
    "name": "ipython",
    "version": 3
   },
   "file_extension": ".py",
   "mimetype": "text/x-python",
   "name": "python",
   "nbconvert_exporter": "python",
   "pygments_lexer": "ipython3",
   "version": "3.8.5"
  }
 },
 "nbformat": 4,
 "nbformat_minor": 4
}
