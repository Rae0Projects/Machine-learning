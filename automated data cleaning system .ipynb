{
 "cells": [
  {
   "cell_type": "code",
   "execution_count": 1,
   "metadata": {},
   "outputs": [
    {
     "name": "stderr",
     "output_type": "stream",
     "text": [
      "C:\\Users\\olatu\\anaconda3\\lib\\site-packages\\pandas\\core\\computation\\expressions.py:20: UserWarning: Pandas requires version '2.7.3' or newer of 'numexpr' (version '2.7.1' currently installed).\n",
      "  from pandas.core.computation.check import NUMEXPR_INSTALLED\n"
     ]
    }
   ],
   "source": [
    "import pandas as pd\n",
    "import numpy as np\n",
    "from sklearn.preprocessing import MinMaxScaler\n"
   ]
  },
  {
   "cell_type": "code",
   "execution_count": null,
   "metadata": {},
   "outputs": [],
   "source": [
    "import pandas as pd\n",
    "from sklearn.preprocessing import MinMaxScaler\n",
    "\n",
    "def validate_and_transform_data(data):\n",
    "    # Convert the \"Age\" column to numeric values (integer)\n",
    "    data['Age'] = pd.to_numeric(data['Age'], errors='coerce')  # Convert non-numeric values to NaN\n",
    "\n",
    "    # Handle missing or non-numeric values in the \"Age\" column\n",
    "    data['Age'].fillna(data['Age'].median(), inplace=True)  # Replace missing values with the median\n",
    "\n",
    "    # Convert \"Age\" to integers (remove decimal points if any)\n",
    "    data['Age'] = data['Age'].astype(int)\n",
    "\n",
    "    return data\n",
    "\n",
    "def automate_data_cleaning(input_file, output_file):\n",
    "    # Load the dataset\n",
    "    data = pd.read_csv(input_file)\n",
    "\n",
    "    # Data cleaning steps \n",
    "    # Check for missing values\n",
    "    print(data.isnull().sum())\n",
    "\n",
    "    # Drop rows with missing values (if applicable)\n",
    "    data.dropna(inplace=True)\n",
    "\n",
    "    # Impute missing values with mean, median, or specific values (if applicable)\n",
    "    data.fillna(data.mean(), inplace=True)\n",
    "\n",
    "    # Remove duplicate rows\n",
    "    data.drop_duplicates(inplace=True)\n",
    "\n",
    "    # Validate and transform data\n",
    "    data = validate_and_transform_data(data)\n",
    "\n",
    "    # Handle data normalization and scaling (if required)\n",
    "    scaler = MinMaxScaler()\n",
    "    data_normalized = pd.DataFrame(scaler.fit_transform(data), columns=data.columns)\n",
    "\n",
    "    # Save the cleaned dataset\n",
    "    data.to_csv(output_file, index=False)\n",
    "\n",
    "# Example usage:\n",
    "automate_data_cleaning(\"input_data.csv\", \"cleaned_data.csv\")\n"
   ]
  },
  {
   "cell_type": "code",
   "execution_count": null,
   "metadata": {},
   "outputs": [],
   "source": []
  },
  {
   "cell_type": "code",
   "execution_count": null,
   "metadata": {},
   "outputs": [],
   "source": [
    "\n"
   ]
  }
 ],
 "metadata": {
  "kernelspec": {
   "display_name": "Python 3",
   "language": "python",
   "name": "python3"
  },
  "language_info": {
   "codemirror_mode": {
    "name": "ipython",
    "version": 3
   },
   "file_extension": ".py",
   "mimetype": "text/x-python",
   "name": "python",
   "nbconvert_exporter": "python",
   "pygments_lexer": "ipython3",
   "version": "3.8.5"
  }
 },
 "nbformat": 4,
 "nbformat_minor": 4
}
